{
 "cells": [
  {
   "cell_type": "markdown",
   "id": "769c072d-2f8d-4425-be48-43a46e2da280",
   "metadata": {},
   "source": [
    "# Data Prep and Initial Analysis  "
   ]
  },
  {
   "cell_type": "markdown",
   "id": "f5728dfd-5d6a-491a-b0a7-9c7491075563",
   "metadata": {},
   "source": [
    "#### Step 1: Imports, functions, constants"
   ]
  },
  {
   "cell_type": "code",
   "execution_count": 1,
   "id": "629f10fd-5178-4aa1-902f-98e0c2f2c885",
   "metadata": {},
   "outputs": [],
   "source": [
    "# Import libraries and dependencies\n",
    "import os\n",
    "import requests\n",
    "import pandas as pd\n",
    "import yfinance as yf\n",
    "import csv\n",
    "from pathlib import Path\n",
    "import numpy as np"
   ]
  },
  {
   "cell_type": "code",
   "execution_count": 2,
   "id": "ec2cdacb-7fb0-453e-8ef7-ef844047faa8",
   "metadata": {},
   "outputs": [],
   "source": [
    "def fetch_yahoo(ticker, start, end):\n",
    "    \n",
    "    print(f'Start date = {start}')\n",
    "    print(f'End date = {end}')   \n",
    "\n",
    "    # Get Data\n",
    "    yfObj = yf.Ticker(ticker)\n",
    "    stock_df = yfObj.history(start=start, end=end)\n",
    "    # Drop unused columns\n",
    "    stock_df.drop(['Open', 'Volume', 'Dividends', 'Stock Splits'], inplace=True, axis=1)\n",
    "    stock_df.rename(columns={'High':'high', 'Low':'low', 'Close':'close'}, inplace=True)\n",
    "    return stock_df"
   ]
  },
  {
   "cell_type": "code",
   "execution_count": 3,
   "id": "587e614f-d46f-4919-a797-16f380c41d94",
   "metadata": {},
   "outputs": [],
   "source": [
    "def validate_data(df):\n",
    "    print(\"DATA TYPES:\")\n",
    "    print(df.dtypes)\n",
    "    print()\n",
    "    dupes = df.duplicated().sum()\n",
    "    print(f\"Total duplicated values: {dupes}\")\n",
    "    print()\n",
    "    nulls = df.isnull().sum()\n",
    "    print(f\"Total null values: \\n{nulls}\")\n",
    "    "
   ]
  },
  {
   "cell_type": "code",
   "execution_count": 4,
   "id": "82ed1ec8-9d15-439a-83ed-48a86af6b146",
   "metadata": {},
   "outputs": [],
   "source": [
    "start_date = \"1987-01-01\"\n",
    "end_date = \"2022-05-01\""
   ]
  },
  {
   "cell_type": "markdown",
   "id": "f2c898cc-bfff-4125-a04a-532589e4c6aa",
   "metadata": {},
   "source": [
    "#### Step 2: Get data and Validate  "
   ]
  },
  {
   "cell_type": "code",
   "execution_count": 5,
   "id": "f6210ba8-5175-46df-a190-a14257d352e6",
   "metadata": {},
   "outputs": [
    {
     "name": "stdout",
     "output_type": "stream",
     "text": [
      "Start date = 1987-01-01\n",
      "End date = 2022-05-01\n"
     ]
    },
    {
     "data": {
      "text/html": [
       "<div>\n",
       "<style scoped>\n",
       "    .dataframe tbody tr th:only-of-type {\n",
       "        vertical-align: middle;\n",
       "    }\n",
       "\n",
       "    .dataframe tbody tr th {\n",
       "        vertical-align: top;\n",
       "    }\n",
       "\n",
       "    .dataframe thead th {\n",
       "        text-align: right;\n",
       "    }\n",
       "</style>\n",
       "<table border=\"1\" class=\"dataframe\">\n",
       "  <thead>\n",
       "    <tr style=\"text-align: right;\">\n",
       "      <th></th>\n",
       "      <th>high</th>\n",
       "      <th>low</th>\n",
       "      <th>close</th>\n",
       "    </tr>\n",
       "    <tr>\n",
       "      <th>Date</th>\n",
       "      <th></th>\n",
       "      <th></th>\n",
       "      <th></th>\n",
       "    </tr>\n",
       "  </thead>\n",
       "  <tbody>\n",
       "    <tr>\n",
       "      <th>1987-01-02</th>\n",
       "      <td>0.106396</td>\n",
       "      <td>0.103668</td>\n",
       "      <td>0.104214</td>\n",
       "    </tr>\n",
       "    <tr>\n",
       "      <th>1987-01-05</th>\n",
       "      <td>0.111306</td>\n",
       "      <td>0.103668</td>\n",
       "      <td>0.110215</td>\n",
       "    </tr>\n",
       "    <tr>\n",
       "      <th>1987-01-06</th>\n",
       "      <td>0.112398</td>\n",
       "      <td>0.109670</td>\n",
       "      <td>0.111852</td>\n",
       "    </tr>\n",
       "    <tr>\n",
       "      <th>1987-01-07</th>\n",
       "      <td>0.117854</td>\n",
       "      <td>0.111852</td>\n",
       "      <td>0.117854</td>\n",
       "    </tr>\n",
       "    <tr>\n",
       "      <th>1987-01-08</th>\n",
       "      <td>0.122765</td>\n",
       "      <td>0.118400</td>\n",
       "      <td>0.121673</td>\n",
       "    </tr>\n",
       "    <tr>\n",
       "      <th>...</th>\n",
       "      <td>...</td>\n",
       "      <td>...</td>\n",
       "      <td>...</td>\n",
       "    </tr>\n",
       "    <tr>\n",
       "      <th>2022-04-25</th>\n",
       "      <td>280.456766</td>\n",
       "      <td>270.140797</td>\n",
       "      <td>280.067688</td>\n",
       "    </tr>\n",
       "    <tr>\n",
       "      <th>2022-04-26</th>\n",
       "      <td>277.713172</td>\n",
       "      <td>269.372612</td>\n",
       "      <td>269.592102</td>\n",
       "    </tr>\n",
       "    <tr>\n",
       "      <th>2022-04-27</th>\n",
       "      <td>290.293881</td>\n",
       "      <td>278.511326</td>\n",
       "      <td>282.561890</td>\n",
       "    </tr>\n",
       "    <tr>\n",
       "      <th>2022-04-28</th>\n",
       "      <td>290.303870</td>\n",
       "      <td>280.805972</td>\n",
       "      <td>288.957001</td>\n",
       "    </tr>\n",
       "    <tr>\n",
       "      <th>2022-04-29</th>\n",
       "      <td>289.206417</td>\n",
       "      <td>275.857503</td>\n",
       "      <td>276.875122</td>\n",
       "    </tr>\n",
       "  </tbody>\n",
       "</table>\n",
       "<p>8904 rows × 3 columns</p>\n",
       "</div>"
      ],
      "text/plain": [
       "                  high         low       close\n",
       "Date                                          \n",
       "1987-01-02    0.106396    0.103668    0.104214\n",
       "1987-01-05    0.111306    0.103668    0.110215\n",
       "1987-01-06    0.112398    0.109670    0.111852\n",
       "1987-01-07    0.117854    0.111852    0.117854\n",
       "1987-01-08    0.122765    0.118400    0.121673\n",
       "...                ...         ...         ...\n",
       "2022-04-25  280.456766  270.140797  280.067688\n",
       "2022-04-26  277.713172  269.372612  269.592102\n",
       "2022-04-27  290.293881  278.511326  282.561890\n",
       "2022-04-28  290.303870  280.805972  288.957001\n",
       "2022-04-29  289.206417  275.857503  276.875122\n",
       "\n",
       "[8904 rows x 3 columns]"
      ]
     },
     "execution_count": 5,
     "metadata": {},
     "output_type": "execute_result"
    }
   ],
   "source": [
    "ticker='MSFT'\n",
    "\n",
    "# Get current closing prices for ticker\n",
    "stock_df = fetch_yahoo(ticker, start_date, end_date)\n",
    "\n",
    "# Display sample data\n",
    "stock_df"
   ]
  },
  {
   "cell_type": "code",
   "execution_count": 6,
   "id": "d8db6271-1df8-450b-97a6-ae728bcb5973",
   "metadata": {},
   "outputs": [
    {
     "name": "stdout",
     "output_type": "stream",
     "text": [
      "DATA TYPES:\n",
      "high     float64\n",
      "low      float64\n",
      "close    float64\n",
      "dtype: object\n",
      "\n",
      "Total duplicated values: 31\n",
      "\n",
      "Total null values: \n",
      "high     0\n",
      "low      0\n",
      "close    0\n",
      "dtype: int64\n"
     ]
    }
   ],
   "source": [
    "validate_data(stock_df)"
   ]
  },
  {
   "cell_type": "code",
   "execution_count": 7,
   "id": "6cc4e09d-6870-40a7-b202-2219667608e2",
   "metadata": {},
   "outputs": [],
   "source": [
    "# Save a copy of the clean, raw data\n",
    "stock_df.to_csv('Resources/msft_hlc.csv')"
   ]
  },
  {
   "cell_type": "markdown",
   "id": "b6575e4d-5d50-49d1-ae27-90c41370509b",
   "metadata": {},
   "source": [
    "#### Step 3: Basic Analysis of raw data"
   ]
  },
  {
   "cell_type": "code",
   "execution_count": 29,
   "id": "729054a2-5158-430b-a05e-4a697d269ecd",
   "metadata": {},
   "outputs": [
    {
     "data": {
      "text/html": [
       "<div>\n",
       "<style scoped>\n",
       "    .dataframe tbody tr th:only-of-type {\n",
       "        vertical-align: middle;\n",
       "    }\n",
       "\n",
       "    .dataframe tbody tr th {\n",
       "        vertical-align: top;\n",
       "    }\n",
       "\n",
       "    .dataframe thead th {\n",
       "        text-align: right;\n",
       "    }\n",
       "</style>\n",
       "<table border=\"1\" class=\"dataframe\">\n",
       "  <thead>\n",
       "    <tr style=\"text-align: right;\">\n",
       "      <th></th>\n",
       "      <th>high</th>\n",
       "      <th>low</th>\n",
       "      <th>close</th>\n",
       "    </tr>\n",
       "  </thead>\n",
       "  <tbody>\n",
       "    <tr>\n",
       "      <th>count</th>\n",
       "      <td>504.000000</td>\n",
       "      <td>504.000000</td>\n",
       "      <td>504.000000</td>\n",
       "    </tr>\n",
       "    <tr>\n",
       "      <th>mean</th>\n",
       "      <td>256.214966</td>\n",
       "      <td>250.972452</td>\n",
       "      <td>253.701242</td>\n",
       "    </tr>\n",
       "    <tr>\n",
       "      <th>std</th>\n",
       "      <td>46.664591</td>\n",
       "      <td>45.966428</td>\n",
       "      <td>46.337750</td>\n",
       "    </tr>\n",
       "    <tr>\n",
       "      <th>min</th>\n",
       "      <td>175.006481</td>\n",
       "      <td>170.264928</td>\n",
       "      <td>171.019272</td>\n",
       "    </tr>\n",
       "    <tr>\n",
       "      <th>25%</th>\n",
       "      <td>213.028913</td>\n",
       "      <td>209.501507</td>\n",
       "      <td>211.409424</td>\n",
       "    </tr>\n",
       "    <tr>\n",
       "      <th>50%</th>\n",
       "      <td>249.348918</td>\n",
       "      <td>245.505308</td>\n",
       "      <td>247.481323</td>\n",
       "    </tr>\n",
       "    <tr>\n",
       "      <th>75%</th>\n",
       "      <td>297.189068</td>\n",
       "      <td>292.061736</td>\n",
       "      <td>294.781990</td>\n",
       "    </tr>\n",
       "    <tr>\n",
       "      <th>max</th>\n",
       "      <td>348.137633</td>\n",
       "      <td>340.700399</td>\n",
       "      <td>341.606384</td>\n",
       "    </tr>\n",
       "  </tbody>\n",
       "</table>\n",
       "</div>"
      ],
      "text/plain": [
       "             high         low       close\n",
       "count  504.000000  504.000000  504.000000\n",
       "mean   256.214966  250.972452  253.701242\n",
       "std     46.664591   45.966428   46.337750\n",
       "min    175.006481  170.264928  171.019272\n",
       "25%    213.028913  209.501507  211.409424\n",
       "50%    249.348918  245.505308  247.481323\n",
       "75%    297.189068  292.061736  294.781990\n",
       "max    348.137633  340.700399  341.606384"
      ]
     },
     "execution_count": 29,
     "metadata": {},
     "output_type": "execute_result"
    }
   ],
   "source": [
    "stock_df.describe()"
   ]
  },
  {
   "cell_type": "code",
   "execution_count": 30,
   "id": "1ec5793c-edf8-4b85-be2d-e73117abfc60",
   "metadata": {},
   "outputs": [
    {
     "data": {
      "text/plain": [
       "<AxesSubplot:>"
      ]
     },
     "execution_count": 30,
     "metadata": {},
     "output_type": "execute_result"
    },
    {
     "data": {
      "image/png": "[encoded data removed]",
      "text/plain": [
       "<Figure size 432x288 with 1 Axes>"
      ]
     },
     "metadata": {
      "needs_background": "light"
     },
     "output_type": "display_data"
    }
   ],
   "source": [
    "# whisker boxes\n",
    "stock_df.boxplot(column=['high', 'low', 'close'])"
   ]
  },
  {
   "cell_type": "code",
   "execution_count": 31,
   "id": "19abe262-b95e-425b-b842-66e0a166eaeb",
   "metadata": {},
   "outputs": [
    {
     "data": {
      "text/plain": [
       "<AxesSubplot:title={'center':'2 Year MSFT Closing Prices'}, xlabel='Date'>"
      ]
     },
     "execution_count": 31,
     "metadata": {},
     "output_type": "execute_result"
    },
    {
     "data": {
      "image/png": "[encoded data removed]",
      "text/plain": [
       "<Figure size 1440x720 with 1 Axes>"
      ]
     },
     "metadata": {
      "needs_background": "light"
     },
     "output_type": "display_data"
    }
   ],
   "source": [
    "# Plot the close column to examine the trend for closing prices\n",
    "stock_df['close'].plot(\n",
    "    title=\"2 Year MSFT Closing Prices\",\n",
    "    figsize=[20, 10]\n",
    ")"
   ]
  },
  {
   "cell_type": "markdown",
   "id": "524070fe-895e-451b-b400-5429f8646ac2",
   "metadata": {},
   "source": [
    "#### Step 4: Add daily returns, validate, save"
   ]
  },
  {
   "cell_type": "code",
   "execution_count": 32,
   "id": "406701b0-52b0-4f50-8754-50c1fe98e915",
   "metadata": {},
   "outputs": [],
   "source": [
    "stock_df[\"daily_return\"] = stock_df[\"close\"].pct_change()\n",
    "stock_df = stock_df.dropna()"
   ]
  },
  {
   "cell_type": "code",
   "execution_count": 33,
   "id": "1f102fc7-6e30-4b08-817a-5cca8c34d3a5",
   "metadata": {},
   "outputs": [
    {
     "name": "stdout",
     "output_type": "stream",
     "text": [
      "DATA TYPES:\n",
      "high            float64\n",
      "low             float64\n",
      "close           float64\n",
      "daily_return    float64\n",
      "dtype: object\n",
      "\n",
      "Total duplicated values: 0\n",
      "\n",
      "Total null values: \n",
      "high            0\n",
      "low             0\n",
      "close           0\n",
      "daily_return    0\n",
      "dtype: int64\n"
     ]
    }
   ],
   "source": [
    "validate_data(stock_df)"
   ]
  },
  {
   "cell_type": "code",
   "execution_count": 34,
   "id": "49928140-db53-4d93-8b6f-f764650a0c8d",
   "metadata": {},
   "outputs": [],
   "source": [
    "stock_df.to_csv('Resources/msft_daily.csv')"
   ]
  },
  {
   "cell_type": "markdown",
   "id": "c7d85d47-b76c-40fe-bb3f-ee266bac4199",
   "metadata": {},
   "source": [
    "#### Step 5: Basic Financial Analysis"
   ]
  },
  {
   "cell_type": "code",
   "execution_count": 51,
   "id": "e5cc8532-97c9-4712-b56e-7030e18dc600",
   "metadata": {},
   "outputs": [
    {
     "data": {
      "text/plain": [
       "1.6189703012664525"
      ]
     },
     "execution_count": 51,
     "metadata": {},
     "output_type": "execute_result"
    }
   ],
   "source": [
    "# Calculate the cumulative returns\n",
    "cumulative_returns = (1 + stock_df[\"daily_return\"]).cumprod()\n",
    "cumulative_returns[-1]"
   ]
  },
  {
   "cell_type": "markdown",
   "id": "db845a0f-5fef-4789-b934-dc5e67223306",
   "metadata": {},
   "source": [
    "The cumulative product of 1.6189703 means that if we bought \\\\$100,000 worth of MSFT stock at the beginning of our period, we'd have \\\\$161,897.03 at the end. "
   ]
  },
  {
   "cell_type": "code",
   "execution_count": 52,
   "id": "8a781555-bf97-4b66-8c93-48acc32c1353",
   "metadata": {},
   "outputs": [
    {
     "data": {
      "text/plain": [
       "0.2768683395349945"
      ]
     },
     "execution_count": 52,
     "metadata": {},
     "output_type": "execute_result"
    }
   ],
   "source": [
    "# Set the number of trading days for the year\n",
    "year_trading_days = 252\n",
    "\n",
    "# Calculate the annualized average return \n",
    "average_annual_return = stock_df[\"daily_return\"].mean() * year_trading_days\n",
    "average_annual_return"
   ]
  },
  {
   "cell_type": "code",
   "execution_count": 54,
   "id": "5f7f1f1e-ae3d-4ca8-b7c2-4a70e2bfcbbe",
   "metadata": {},
   "outputs": [
    {
     "data": {
      "text/plain": [
       "0.26599719164825336"
      ]
     },
     "execution_count": 54,
     "metadata": {},
     "output_type": "execute_result"
    }
   ],
   "source": [
    "# Calculate the annualized standard deviation\n",
    "annual_std_dev = stock_df[\"daily_return\"].std() * np.sqrt(year_trading_days)\n",
    "annual_std_dev"
   ]
  },
  {
   "cell_type": "markdown",
   "id": "9bebe485-ce4f-41db-be9b-5334daf316d5",
   "metadata": {},
   "source": [
    "##### Sharpe Ratio  \n",
    "The Sharpe ratio assesses risk and reward by measuring the excess return (that is, the reward, or profit) for the risk that someone assumes when investing in the asset. The greater the value of the Sharpe ratio, the more attractive the risk-adjusted return for that asset is."
   ]
  },
  {
   "cell_type": "code",
   "execution_count": 38,
   "id": "e319e7c3-6874-49dd-aa07-d3923d53fccc",
   "metadata": {},
   "outputs": [
    {
     "data": {
      "text/plain": [
       "1.040869408505323"
      ]
     },
     "execution_count": 38,
     "metadata": {},
     "output_type": "execute_result"
    }
   ],
   "source": [
    "# Calculate Sharpe Ratio by dividing the average annual return by the annual standard deviation\n",
    "sharpe_ratio = average_annual_return / annual_std_dev\n",
    "# Display result\n",
    "sharpe_ratio"
   ]
  },
  {
   "cell_type": "markdown",
   "id": "ea4bd24e-0cd2-4a49-8c08-546d3e4b7f7f",
   "metadata": {},
   "source": [
    "##### Variance  \n",
    "Variance measures the price volatility of a single asset around its mean over time."
   ]
  },
  {
   "cell_type": "code",
   "execution_count": 39,
   "id": "7fcbce82-539a-42a9-a3d8-4e0a91ce850f",
   "metadata": {},
   "outputs": [
    {
     "data": {
      "text/plain": [
       "0.0002807718490664985"
      ]
     },
     "execution_count": 39,
     "metadata": {},
     "output_type": "execute_result"
    }
   ],
   "source": [
    "daily_var = stock_df[\"daily_return\"].var()\n",
    "daily_var"
   ]
  },
  {
   "cell_type": "markdown",
   "id": "a84a0f9a-3adb-4ad8-8995-a4d892ddb596",
   "metadata": {},
   "source": [
    "A variance of .00028 is low and therefore relatively stable."
   ]
  },
  {
   "cell_type": "code",
   "execution_count": 56,
   "id": "b046da19-f6ce-41ef-9257-78401723f13f",
   "metadata": {},
   "outputs": [
    {
     "name": "stdout",
     "output_type": "stream",
     "text": [
      "Start date = 2020-05-01\n",
      "End date = 2022-05-01\n"
     ]
    },
    {
     "data": {
      "text/plain": [
       "Date\n",
       "2022-04-25   -0.022905\n",
       "2022-04-26   -0.010076\n",
       "2022-04-27    0.014125\n",
       "2022-04-28    0.017001\n",
       "2022-04-29   -0.019134\n",
       "Name: close, dtype: float64"
      ]
     },
     "execution_count": 56,
     "metadata": {},
     "output_type": "execute_result"
    }
   ],
   "source": [
    "ticker='SNP'\n",
    "\n",
    "# Get current closing prices for M\n",
    "sp_df = fetch_yahoo(ticker, start_date, end_date)\n",
    "\n",
    "# Display sample data\n",
    "sp_daily = sp_df['close'].pct_change().dropna()\n",
    "\n",
    "sp_daily.tail()"
   ]
  },
  {
   "cell_type": "code",
   "execution_count": 58,
   "id": "eb981158-a079-4d55-accd-fb214bd1a3f1",
   "metadata": {},
   "outputs": [
    {
     "data": {
      "text/plain": [
       "1.1994573401673354"
      ]
     },
     "execution_count": 58,
     "metadata": {},
     "output_type": "execute_result"
    }
   ],
   "source": [
    "sp_cum_return = (1 + sp_daily).cumprod()\n",
    "sp_cum_return[-1]"
   ]
  },
  {
   "cell_type": "markdown",
   "id": "54ae9e28-f5d1-412e-b92e-3e83535e2a3b",
   "metadata": {},
   "source": [
    "The cumulative return for the S&P500 is 1.199457, meaning that if we invested \\\\$100,000 initially, we'd have $119,945.72."
   ]
  },
  {
   "cell_type": "code",
   "execution_count": 41,
   "id": "a4255101-9d32-4afe-991d-49245deea5bc",
   "metadata": {},
   "outputs": [
    {
     "data": {
      "text/plain": [
       "0.07116721674627714"
      ]
     },
     "execution_count": 41,
     "metadata": {},
     "output_type": "execute_result"
    }
   ],
   "source": [
    "# Calculate beta of all daily returns\n",
    "# Divide the covariance versus the S&P 500 by the variance of the S&P 500\n",
    "beta = stock_df[\"daily_return\"].cov(sp_daily) / sp_daily.var()\n",
    "\n",
    "# Display the beta\n",
    "beta"
   ]
  },
  {
   "cell_type": "markdown",
   "id": "bf427cbb-dfb9-4735-a823-91fb4bcbd5c3",
   "metadata": {},
   "source": [
    "The beta measures how much an asset's return value is likely to change relative to changes in the overall market’s return value. MSFT's beta of .07 means that it will move significantly less than the market."
   ]
  },
  {
   "cell_type": "code",
   "execution_count": null,
   "id": "794205fa-957f-4d01-9389-e6c80f9ec195",
   "metadata": {},
   "outputs": [],
   "source": []
  }
 ],
 "metadata": {
  "kernelspec": {
   "display_name": "Python (dev)",
   "language": "python",
   "name": "dev"
  },
  "language_info": {
   "codemirror_mode": {
    "name": "ipython",
    "version": 3
   },
   "file_extension": ".py",
   "mimetype": "text/x-python",
   "name": "python",
   "nbconvert_exporter": "python",
   "pygments_lexer": "ipython3",
   "version": "3.7.11"
  }
 },
 "nbformat": 4,
 "nbformat_minor": 5
}
